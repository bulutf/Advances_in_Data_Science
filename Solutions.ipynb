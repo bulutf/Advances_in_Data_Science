{
 "cells": [
  {
   "cell_type": "markdown",
   "metadata": {},
   "source": [
    "## Eylül Bulut Fıçıcı\n",
    "## 528201014"
   ]
  },
  {
   "cell_type": "code",
   "execution_count": 1,
   "metadata": {},
   "outputs": [],
   "source": [
    "def problem1(file):\n",
    "    \n",
    "    import csv\n",
    "    with open(file) as csv_file:\n",
    "        csv_reader = csv.reader(csv_file, delimiter = ',')\n",
    "        if csv.Sniffer().has_header:\n",
    "            next(csv_reader)\n",
    "        dataset = []\n",
    "        total = 0;\n",
    "        for line in csv_reader:\n",
    "            dataset.append(line)\n",
    "\n",
    "    import unicodedata\n",
    "    manufacturers = list()\n",
    "    for i in range(len(dataset)):\n",
    "        dataset[i][2] = unicodedata.normalize(\"NFKD\", dataset[i][2])\n",
    "        dataset[i][2] = dataset[i][2].replace(' ','')\n",
    "        manufacturers.append(dataset[i][2])\n",
    "\n",
    "    # conerting the list to a set\n",
    "    set_manuf = set(manufacturers)\n",
    "    # converting the set to a list\n",
    "    unique_list = (list(set_manuf))\n",
    "\n",
    "    print(\"the number of unique manufacturers in this dataset is: {}\".format(len(unique_list)))\n",
    "\n",
    "    sales_dict = dict.fromkeys(unique_list, 0)\n",
    "    for i in range(len(dataset)):\n",
    "        if dataset[i][0] == '2010':\n",
    "            sales_dict[dataset[i][2]] = sales_dict[dataset[i][2]]+int(dataset[i][4])\n",
    "\n",
    "    max_key = max(sales_dict, key = sales_dict.get)\n",
    "\n",
    "    print(\"{} has the highest sales in 2010, which is {}\".format(max_key,sales_dict[max_key]))\n",
    "\n",
    "    return"
   ]
  },
  {
   "cell_type": "code",
   "execution_count": 2,
   "metadata": {},
   "outputs": [
    {
     "name": "stdout",
     "output_type": "stream",
     "text": [
      "the number of unique manufacturers in this dataset is: 22\n",
      "Volkswagen has the highest sales in 2010, which is 16118\n"
     ]
    }
   ],
   "source": [
    "problem1(\"midterm_data/norway_new_car_sales_by_model.csv\")"
   ]
  },
  {
   "cell_type": "code",
   "execution_count": 3,
   "metadata": {},
   "outputs": [],
   "source": [
    "def problem3(path):\n",
    "    \n",
    "    import os \n",
    "    import time\n",
    "    \n",
    "    arr = os.listdir(path)        \n",
    "    start = time.time()\n",
    "    count=0\n",
    "    \n",
    "    for file in arr:\n",
    "\n",
    "        if \".pdbqt\" in file:\n",
    "            \n",
    "            full_path = os.path.join(path, file)\n",
    "            disared = open(full_path)\n",
    "            lines = disared.readlines()\n",
    "            name = lines[0][15:-1]\n",
    "            disared.close()\n",
    "            os.rename(full_path, os.path.join(path, name + '.pdbqt'))\n",
    "\n",
    "            count = count + 1\n",
    "            \n",
    "    print(\"the number of processed files: {}\".format(count))\n",
    "\n",
    "    tot = time.time() - start\n",
    "\n",
    "    print(\"estimated hours to process three million files: {}\".format((3000000*tot)/(60*60*count)))\n",
    "    \n",
    "    return"
   ]
  },
  {
   "cell_type": "code",
   "execution_count": 4,
   "metadata": {},
   "outputs": [
    {
     "name": "stdout",
     "output_type": "stream",
     "text": [
      "the number of processed files: 38\n",
      "estimated hours to process three million files: 0.6342561621414987\n"
     ]
    }
   ],
   "source": [
    "problem3(\"midterm_data/mol_files\")"
   ]
  },
  {
   "cell_type": "code",
   "execution_count": 5,
   "metadata": {},
   "outputs": [],
   "source": [
    "def problem4(file1,file2,file3,file4):\n",
    "    \n",
    "    import re\n",
    "    \n",
    "    movies_dict = {}\n",
    "    users_dict = {}\n",
    "\n",
    "    with open (file1) as data_file :\n",
    "\n",
    "        for line in data_file :\n",
    "            \n",
    "            line_list = line.strip ('\\n').split ('::')\n",
    "            movie_id = line_list[0]\n",
    "            title= line_list[1].replace(line_list[1][-6:],\"\");\n",
    "            year = line_list[1][-6:][1:5]\n",
    "            genres = line_list[2]\n",
    "\n",
    "            movies_dict[movie_id] = (title + \"::\" + genres + \"::\" + year)\n",
    "\n",
    "    with open (file2) as data_file :\n",
    "\n",
    "        for line in data_file :\n",
    "            \n",
    "            line_list = line.strip ('\\n').split ('::')\n",
    "            user_id = line_list[0]\n",
    "            gender = line_list[1]\n",
    "            age = line_list[2]\n",
    "            occupation = line_list[3]\n",
    "            zip = line_list[4]\n",
    "\n",
    "            users_dict[user_id] = (gender + \"::\" + age + \"::\" + occupation + \"::\" + zip)\n",
    "\n",
    "    output = open(file4, \"w\")\n",
    "\n",
    "    with open (file3) as data_file:\n",
    "        \n",
    "        for line in data_file :\n",
    "            \n",
    "            line_list = line.strip ('\\n').split ('::')\n",
    "            line = line + users_dict[line_list[0]] + \"::\" + movies_dict[line_list[1]]\n",
    "            line = line.replace(\"\\n\",\"::\")\n",
    "            output.write(line + \"\\n\")\n",
    "\n",
    "    output.close()\n",
    "    \n",
    "    return"
   ]
  },
  {
   "cell_type": "code",
   "execution_count": 6,
   "metadata": {},
   "outputs": [],
   "source": [
    "problem4(\"movies.dat\",\"users.dat\",\"ratings.dat\",\"merged.dat\")"
   ]
  }
 ],
 "metadata": {
  "kernelspec": {
   "display_name": "Python 3",
   "language": "python",
   "name": "python3"
  },
  "language_info": {
   "codemirror_mode": {
    "name": "ipython",
    "version": 3
   },
   "file_extension": ".py",
   "mimetype": "text/x-python",
   "name": "python",
   "nbconvert_exporter": "python",
   "pygments_lexer": "ipython3",
   "version": "3.8.5"
  }
 },
 "nbformat": 4,
 "nbformat_minor": 4
}
